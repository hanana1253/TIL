{
 "cells": [
  {
   "cell_type": "code",
   "execution_count": 3,
   "id": "professional-atlanta",
   "metadata": {},
   "outputs": [
    {
     "data": {
      "text/plain": [
       "<Response [200]>"
      ]
     },
     "execution_count": 3,
     "metadata": {},
     "output_type": "execute_result"
    }
   ],
   "source": [
    "import requests\n",
    "from bs4 import BeautifulSoup\n",
    "\n",
    "url = 'https://en.wikipedia.org/wiki/COVID-19_pandemic_in_South_Korea'\n",
    "response = requests.get(url)\n",
    "response"
   ]
  },
  {
   "cell_type": "code",
   "execution_count": 30,
   "id": "provincial-nothing",
   "metadata": {},
   "outputs": [
    {
     "data": {
      "text/plain": [
       "'79,762'"
      ]
     },
     "execution_count": 30,
     "metadata": {},
     "output_type": "execute_result"
    }
   ],
   "source": [
    "soup = BeautifulSoup(response.text, 'html.parser')\n",
    "div_barbox = soup.find('div', {'class':'barbox'})\n",
    "last_15 = div_barbox.find_all('tr', {'id':'mw-customcollapsible-2021feb-l15'})\n",
    "date_covid = last_15[0].find('td',{'class':'bb-04em'})\n",
    "cases_deaths = last_15[0].find_all('span',{'class':'cbs-ibr'})\n",
    "cases_deaths[0].text"
   ]
  },
  {
   "cell_type": "code",
   "execution_count": 32,
   "id": "arranged-expansion",
   "metadata": {},
   "outputs": [
    {
     "name": "stdout",
     "output_type": "stream",
     "text": [
      "Date: 2021-02-03, Cases: 79,762, Deaths: 1,448\n",
      "Date: 2021-02-04, Cases: 80,131, Deaths: 1,459\n",
      "Date: 2021-02-05, Cases: 80,524, Deaths: 1,464\n",
      "Date: 2021-02-06, Cases: 80,896, Deaths: 1,471\n",
      "Date: 2021-02-07, Cases: 81,185, Deaths: 1,474\n",
      "Date: 2021-02-08, Cases: 81,487, Deaths: 1,482\n",
      "Date: 2021-02-09, Cases: 81,930, Deaths: 1,486\n",
      "Date: 2021-02-10, Cases: 82,434, Deaths: 1,496\n",
      "Date: 2021-02-11, Cases: 82,837, Deaths: 1,507\n",
      "Date: 2021-02-12, Cases: 83,199, Deaths: 1,514\n",
      "Date: 2021-02-13, Cases: 83,525, Deaths: 1,522\n",
      "Date: 2021-02-14, Cases: 83,869, Deaths: 1,527\n",
      "Date: 2021-02-15, Cases: 84,325, Deaths: 1,534\n",
      "Date: 2021-02-16, Cases: 84,946, Deaths: 1,538\n",
      "Date: 2021-02-17, Cases: 85,567, Deaths: 1,544\n"
     ]
    }
   ],
   "source": [
    "for item in last_15:\n",
    "    date_covid = item.find('td', {'class':'bb-04em'}).text\n",
    "    cases = item.find_all('span',{'class':'cbs-ibr'})[0].text\n",
    "    deaths = item.find_all('span',{'class':'cbs-ibr'})[1].text\n",
    "    print(f'Date: {date_covid}, Cases: {cases}, Deaths: {deaths}')"
   ]
  },
  {
   "cell_type": "code",
   "execution_count": null,
   "id": "statewide-arthur",
   "metadata": {},
   "outputs": [],
   "source": []
  }
 ],
 "metadata": {
  "kernelspec": {
   "display_name": "Python 3",
   "language": "python",
   "name": "python3"
  },
  "language_info": {
   "codemirror_mode": {
    "name": "ipython",
    "version": 3
   },
   "file_extension": ".py",
   "mimetype": "text/x-python",
   "name": "python",
   "nbconvert_exporter": "python",
   "pygments_lexer": "ipython3",
   "version": "3.9.1"
  }
 },
 "nbformat": 4,
 "nbformat_minor": 5
}
